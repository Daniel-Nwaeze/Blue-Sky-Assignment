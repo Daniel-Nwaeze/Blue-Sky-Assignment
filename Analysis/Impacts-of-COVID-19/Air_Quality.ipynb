{
 "cells": [
  {
   "cell_type": "markdown",
   "metadata": {
    "id": "uV57sQHpCXca"
   },
   "source": [
    "### Analyse the air quality in India using Earth Engine and satellite data"
   ]
  },
  {
   "cell_type": "code",
   "execution_count": 2,
   "metadata": {
    "id": "gEG8QpqBCbIe"
   },
   "outputs": [],
   "source": [
    "#importing needed libraries\n",
    "from os import path as op\n",
    "import pickle\n",
    "import json\n",
    "import fiona\n",
    "import geemap\n",
    "import ipyleaflet\n",
    "import geopandas as gpd\n",
    "import shapely as shp\n",
    "import matplotlib.pyplot as plt\n",
    "import numpy as np\n",
    "import rasterio\n",
    "from rasterio.features import rasterize\n",
    "from rasterstats.io import bounds_window\n",
    "import rasterstats\n",
    "import folium\n"
   ]
  },
  {
   "cell_type": "code",
   "execution_count": 8,
   "metadata": {},
   "outputs": [],
   "source": [
    "import ee #earth engine"
   ]
  },
  {
   "cell_type": "code",
   "execution_count": 9,
   "metadata": {},
   "outputs": [
    {
     "data": {
      "text/html": [
       "<p>To authorize access needed by Earth Engine, open the following\n",
       "        URL in a web browser and follow the instructions:</p>\n",
       "        <p><a href=https://accounts.google.com/o/oauth2/auth?client_id=517222506229-vsmmajv00ul0bs7p89v5m89qs8eb9359.apps.googleusercontent.com&scope=https%3A%2F%2Fwww.googleapis.com%2Fauth%2Fearthengine+https%3A%2F%2Fwww.googleapis.com%2Fauth%2Fdevstorage.full_control&redirect_uri=urn%3Aietf%3Awg%3Aoauth%3A2.0%3Aoob&response_type=code&code_challenge=vb-1DzXGfFBjC23NvxOqBegtRQU7f84oYBMaoiPgikA&code_challenge_method=S256>https://accounts.google.com/o/oauth2/auth?client_id=517222506229-vsmmajv00ul0bs7p89v5m89qs8eb9359.apps.googleusercontent.com&scope=https%3A%2F%2Fwww.googleapis.com%2Fauth%2Fearthengine+https%3A%2F%2Fwww.googleapis.com%2Fauth%2Fdevstorage.full_control&redirect_uri=urn%3Aietf%3Awg%3Aoauth%3A2.0%3Aoob&response_type=code&code_challenge=vb-1DzXGfFBjC23NvxOqBegtRQU7f84oYBMaoiPgikA&code_challenge_method=S256</a></p>\n",
       "        <p>The authorization workflow will generate a code, which you\n",
       "        should paste in the box below</p>\n",
       "        "
      ],
      "text/plain": [
       "<IPython.core.display.HTML object>"
      ]
     },
     "metadata": {},
     "output_type": "display_data"
    },
    {
     "name": "stdin",
     "output_type": "stream",
     "text": [
      "Enter verification code:  4/1AX4XfWh86dxF9GWi1mAiwPoXlSs-bLw2fBKekEa1HyvD2SclcsXdIHg42vc\n"
     ]
    },
    {
     "name": "stdout",
     "output_type": "stream",
     "text": [
      "\n",
      "Successfully saved authorization token.\n"
     ]
    }
   ],
   "source": [
    "ee.Authenticate()"
   ]
  },
  {
   "cell_type": "code",
   "execution_count": 11,
   "metadata": {},
   "outputs": [],
   "source": [
    "ee.Initialize()"
   ]
  },
  {
   "cell_type": "code",
   "execution_count": 296,
   "metadata": {},
   "outputs": [],
   "source": [
    "#load geojson satellite data for south-east asia\n",
    "polygons = []\n",
    "with open('/home/jovyan/Analysis/Impacts-of-COVID-19/India_shape/south_asia.geojson') as igj:\n",
    "    source = json.load(igj)\n",
    "    src_geo = [feat[\"geometry\"] for feat in source[\"features\"]]"
   ]
  },
  {
   "cell_type": "code",
   "execution_count": 333,
   "metadata": {},
   "outputs": [
    {
     "data": {
      "text/plain": [
       "{'featurecla': 'Admin-0 country',\n",
       " 'NAME_LONG': 'India',\n",
       " 'cartodb _2': 'Co-sponsor of Yoga Day resolution and not an OIC member state'}"
      ]
     },
     "execution_count": 333,
     "metadata": {},
     "output_type": "execute_result"
    }
   ],
   "source": [
    "#check where india is. I used QGIS for this\n",
    "source[\"features\"][16]['properties'] #can see that india is the 16th country, it will be our area of interest (aoi)"
   ]
  },
  {
   "cell_type": "code",
   "execution_count": 311,
   "metadata": {},
   "outputs": [],
   "source": [
    "india = source[\"features\"][16][\"geometry\"]"
   ]
  },
  {
   "cell_type": "code",
   "execution_count": 320,
   "metadata": {
    "id": "yXidJ9xoM8X2"
   },
   "outputs": [],
   "source": [
    "aoi=ee.Geometry.MultiPolygon(india[\"coordinates\"])# loading area of interest"
   ]
  },
  {
   "cell_type": "code",
   "execution_count": 323,
   "metadata": {
    "id": "d7T3JsUpZFAw"
   },
   "outputs": [],
   "source": [
    "s2=ee.ImageCollection('COPERNICUS/S5P/NRTI/L3_NO2') #check for NO2 levels, copernicus\n",
    "collection = s2.select('NO2_column_number_density').filterBounds(aoi) #extract data for our aoi (india)\n",
    "def display_(start_date,end_date,i):\n",
    "  cc=collection.filterDate(start_date, end_date).mean()\n",
    "  clip=cc.clip(aoi)\n",
    "  clip_mean=clip.reduce(ee.Reducer.mean())\n",
    "  # Display the NO2 level in India.\n",
    "  str1='NO2 Concentration before Lockdown from Jan 01 to jan 30' #before lockdown\n",
    "  str2='NO2 Concentration During Lockdown from June 01 to june 30' #during lockdown\n",
    "  str3='NO2 Concentration After Lockdown from Dec 01 to Dec 30' #after lockdown\n",
    "  if i==1:\n",
    "    print(str1)\n",
    "  if i==2:\n",
    "    print(str2)\n",
    "  if i==3:\n",
    "    print(str3)\n",
    "  from IPython.display import Image\n",
    "  # Create a URL to the styled image for a region around India.\n",
    "  url = clip_mean.getThumbUrl({'min': 0.00, 'max': 0.00017, 'dimensions': 512, 'region': aoi, 'palette':['black','blue','purple','cyan','green','yellow','red']})\n",
    "  return url\n",
    "\n"
   ]
  },
  {
   "cell_type": "markdown",
   "metadata": {},
   "source": [
    "#### You will need to run these scripts to view these images.\n",
    "\n",
    "However, you can alternatively see the images in the folder:\n",
    "\n",
    "\"Air-Quality-jpgs\" for NO2 levels before, during and after lockdown."
   ]
  },
  {
   "cell_type": "code",
   "execution_count": 358,
   "metadata": {
    "colab": {
     "base_uri": "https://localhost:8080/",
     "height": 549
    },
    "id": "IOfLFomC-5nd",
    "outputId": "6e723341-a4e0-40ee-a1d2-11f17ec50003"
   },
   "outputs": [
    {
     "name": "stdout",
     "output_type": "stream",
     "text": [
      "NO2 Concentration before Lockdown from Jan 01 to jan 30\n"
     ]
    },
    {
     "data": {
      "text/html": [
       "<img src=\"https://earthengine.googleapis.com/v1alpha/projects/earthengine-legacy/thumbnails/677fcfedacaf3730542535fe8725becd-570582814d0de5a3be388fa10a817cc4:getPixels\"/>"
      ],
      "text/plain": [
       "<IPython.core.display.Image object>"
      ]
     },
     "execution_count": 358,
     "metadata": {},
     "output_type": "execute_result"
    }
   ],
   "source": [
    "from IPython.display import Image\n",
    "Image(url=display_('2020-01-01','2020-01-30',1)) #show levels before lockdown"
   ]
  },
  {
   "cell_type": "code",
   "execution_count": 360,
   "metadata": {
    "colab": {
     "base_uri": "https://localhost:8080/",
     "height": 549
    },
    "id": "tO7Od_EHBrIR",
    "outputId": "bd3927ee-3e88-41fe-dceb-787ae5754e61"
   },
   "outputs": [
    {
     "name": "stdout",
     "output_type": "stream",
     "text": [
      "NO2 Concentration During Lockdown from June 01 to june 30\n"
     ]
    },
    {
     "data": {
      "text/html": [
       "<img src=\"https://earthengine.googleapis.com/v1alpha/projects/earthengine-legacy/thumbnails/b5a72e9e8b4a968fc2d757183d2be549-83cf6bafeae0a235cc66669382b45992:getPixels\"/>"
      ],
      "text/plain": [
       "<IPython.core.display.Image object>"
      ]
     },
     "execution_count": 360,
     "metadata": {},
     "output_type": "execute_result"
    }
   ],
   "source": [
    "Image(url=display_('2020-06-01','2020-06-30',2)) #show levels during lockdown"
   ]
  },
  {
   "cell_type": "code",
   "execution_count": 361,
   "metadata": {
    "colab": {
     "base_uri": "https://localhost:8080/",
     "height": 549
    },
    "id": "vZKz3IBWBweJ",
    "outputId": "926bd04c-6ef0-4d09-9dd6-c8e30edff0a4"
   },
   "outputs": [
    {
     "name": "stdout",
     "output_type": "stream",
     "text": [
      "NO2 Concentration After Lockdown from Dec 01 to Dec 30\n"
     ]
    },
    {
     "data": {
      "text/html": [
       "<img src=\"https://earthengine.googleapis.com/v1alpha/projects/earthengine-legacy/thumbnails/a51a2c5de711a0066b33c1cf7b0163da-3a94dfef1acada52d69dafabbd4b44fc:getPixels\"/>"
      ],
      "text/plain": [
       "<IPython.core.display.Image object>"
      ]
     },
     "execution_count": 361,
     "metadata": {},
     "output_type": "execute_result"
    }
   ],
   "source": [
    "Image(url=display_('2020-12-01','2020-12-30',3)) #show levels after lockdown"
   ]
  },
  {
   "cell_type": "markdown",
   "metadata": {},
   "source": [
    "#### We will then see the time-series data of these before, during and after lockdown"
   ]
  },
  {
   "cell_type": "code",
   "execution_count": 149,
   "metadata": {
    "id": "aBeMR70Q99xi"
   },
   "outputs": [],
   "source": [
    "import pandas as pd"
   ]
  },
  {
   "cell_type": "code",
   "execution_count": 150,
   "metadata": {
    "id": "ah8sily3n9Pf"
   },
   "outputs": [],
   "source": [
    "roi=ee.Geometry.Point(77.2308,28.6117).buffer(500) #obtaining for india"
   ]
  },
  {
   "cell_type": "code",
   "execution_count": 151,
   "metadata": {
    "id": "U9I4fZbR2gvJ"
   },
   "outputs": [],
   "source": [
    "def roi_mean(img): #FIND AVERAGE\n",
    "    mean = img.reduceRegion(reducer=ee.Reducer.mean(), geometry=roi, scale=30).get('NO2_column_number_density')\n",
    "    return img.set('date', img.date().format()).set('mean',mean)"
   ]
  },
  {
   "cell_type": "code",
   "execution_count": 152,
   "metadata": {
    "id": "XysSCzxczplo"
   },
   "outputs": [],
   "source": [
    "def monthly_mean_NO2(m): #FIND MEAN FOR MONTHLY DATA\n",
    "  strt='2020-'+m+'-01'\n",
    "  end='2020-'+m+'-28'\n",
    "  collect=ee.ImageCollection('COPERNICUS/S5P/NRTI/L3_NO2').filterDate(strt,end)\n",
    "  roi_reduced_imgs = collect.map(roi_mean)\n",
    "  nested_list = roi_reduced_imgs.reduceColumns(ee.Reducer.toList(2), ['date','mean']).values().get(0)\n",
    "  df = pd.DataFrame(nested_list.getInfo(), columns=['date','mean'])\n",
    "\n",
    "  return (df['mean'].mean())"
   ]
  },
  {
   "cell_type": "code",
   "execution_count": 153,
   "metadata": {
    "id": "T4mCIUrkzGjG"
   },
   "outputs": [],
   "source": [
    "no=[]\n",
    "month=['01','02','03','04','05','06','07','08','09','10','11','12'] #OBSERVE FOR EVERY MONTH OF THE YEAR\n",
    "for i in range(12):\n",
    "  no.append(monthly_mean_NO2(month[i]))\n"
   ]
  },
  {
   "cell_type": "code",
   "execution_count": 154,
   "metadata": {
    "id": "TS794qphzJDs"
   },
   "outputs": [],
   "source": [
    "y=no\n",
    "x=month"
   ]
  },
  {
   "cell_type": "code",
   "execution_count": 155,
   "metadata": {
    "colab": {
     "base_uri": "https://localhost:8080/",
     "height": 444
    },
    "id": "LQcflepozLwK",
    "outputId": "f07a6f7c-09c5-4d26-d94d-859eb6a4eaf3"
   },
   "outputs": [
    {
     "data": {
      "image/png": "[encoded data removed]",
      "text/plain": [
       "<Figure size 1080x504 with 1 Axes>"
      ]
     },
     "metadata": {
      "needs_background": "light"
     },
     "output_type": "display_data"
    }
   ],
   "source": [
    "from matplotlib import pyplot as plt\n",
    "plt.figure(figsize=(15,7))\n",
    "plt.plot(x,y)\n",
    "\n",
    "x_ticks = x\n",
    "x_labels = ['jan','feb','march','april','may','june','july','august','september','october','november','december']\n",
    "plt.xticks(ticks=x_ticks, labels=x_labels)\n",
    "\n",
    "plt.ylabel(\"Mean NO2 Concentration\")\n",
    "plt.title('NO2 IN CENTRAL DELHI REGION 2020')\n",
    "\n",
    "plt.show()"
   ]
  },
  {
   "cell_type": "markdown",
   "metadata": {},
   "source": [
    "#### Let's repeat these figures for Carbon monoxide levels (CO) instead"
   ]
  },
  {
   "cell_type": "code",
   "execution_count": 180,
   "metadata": {},
   "outputs": [],
   "source": [
    "def roi_mean(img):\n",
    "    mean = img.reduceRegion(reducer=ee.Reducer.mean(), geometry=roi, scale=30).get('CO_column_number_density')\n",
    "    return img.set('date', img.date().format()).set('mean',mean)"
   ]
  },
  {
   "cell_type": "code",
   "execution_count": 181,
   "metadata": {
    "id": "gjYrWt6j-bjV"
   },
   "outputs": [],
   "source": [
    "def monthly_mean_CO(m):\n",
    "  strt='2020-'+m+'-01'\n",
    "  end='2020-'+m+'-28'\n",
    "  collect=ee.ImageCollection('COPERNICUS/S5P/NRTI/L3_CO').filterDate(strt,end)\n",
    "  roi_reduced_imgs = collect.map(roi_mean)\n",
    "  nested_list = roi_reduced_imgs.reduceColumns(ee.Reducer.toList(2), ['date','mean']).values().get(0)\n",
    "  df = pd.DataFrame(nested_list.getInfo(), columns=['date','mean'])\n",
    "\n",
    "  return (df['mean'].mean())"
   ]
  },
  {
   "cell_type": "code",
   "execution_count": 182,
   "metadata": {},
   "outputs": [],
   "source": [
    "co=[]\n",
    "month=['01','02','03','04','05','06','07','08','09','10','11','12']\n",
    "for i in range(12):\n",
    "  co.append(monthly_mean_CO(month[i]))"
   ]
  },
  {
   "cell_type": "code",
   "execution_count": 184,
   "metadata": {},
   "outputs": [],
   "source": [
    "y=co\n",
    "x=month"
   ]
  },
  {
   "cell_type": "code",
   "execution_count": 388,
   "metadata": {},
   "outputs": [
    {
     "data": {
      "image/png": "[encoded data removed]",
      "text/plain": [
       "<Figure size 1080x504 with 1 Axes>"
      ]
     },
     "metadata": {
      "needs_background": "light"
     },
     "output_type": "display_data"
    }
   ],
   "source": [
    "from matplotlib import pyplot as plt\n",
    "plt.figure(figsize=(15,7))\n",
    "plt.plot(x,y)\n",
    "\n",
    "x_ticks = x\n",
    "x_labels = ['jan','feb','march','april','may','june','july','august','september','october','november','december']\n",
    "plt.xticks(ticks=x_ticks, labels=x_labels)\n",
    "\n",
    "plt.ylabel(\"Mean CO Concentration\")\n",
    "plt.title('CO IN CENTRAL DELHI REGION 2020')\n",
    "\n",
    "plt.show()"
   ]
  },
  {
   "cell_type": "code",
   "execution_count": 383,
   "metadata": {},
   "outputs": [],
   "source": [
    "s2=ee.ImageCollection('COPERNICUS/S5P/NRTI/L3_CO')\n",
    "collection = s2.select('CO_column_number_density').filterBounds(aoi)\n",
    "def display_(start_date,end_date,i):\n",
    "  cc=collection.filterDate(start_date, end_date).mean()\n",
    "  clip=cc.clip(aoi)\n",
    "  clip_mean=clip.reduce(ee.Reducer.mean())\n",
    "  # Display the NO2 level in India.\n",
    "  str1='CO Concentration before Lockdown from Jan 01 to jan 30'\n",
    "  str2='CO Concentration During Lockdown from June 01 to june 30'\n",
    "  str3='CO Concentration After Lockdown from Dec 01 to Dec 30'\n",
    "  if i==1:\n",
    "    print(str1)\n",
    "  if i==2:\n",
    "    print(str2)\n",
    "  if i==3:\n",
    "    print(str3)\n",
    "  from IPython.display import Image\n",
    "  # Create a URL to the styled image for a region around France.\n",
    "  url = clip_mean.getThumbUrl({'min': 0.00, 'max': 0.05, 'dimensions': 512, 'region': aoi, 'palette':['black','blue','purple','cyan','green','yellow','red']})\n",
    "  return url\n",
    "\n"
   ]
  },
  {
   "cell_type": "markdown",
   "metadata": {},
   "source": [
    "#### You will need to run these scripts to view these images.\n",
    "\n",
    "However, you can alternatively see the images in the folder:\n",
    "\n",
    "\"Air-Quality-jpgs\" for CO levels before, during and after lockdown."
   ]
  },
  {
   "cell_type": "code",
   "execution_count": 384,
   "metadata": {},
   "outputs": [
    {
     "name": "stdout",
     "output_type": "stream",
     "text": [
      "CO Concentration before Lockdown from Jan 01 to jan 30\n"
     ]
    },
    {
     "data": {
      "text/html": [
       "<img src=\"https://earthengine.googleapis.com/v1alpha/projects/earthengine-legacy/thumbnails/71e2f5379c7b8fcd4ee2ea00e0cdaa8b-d40080206778f59c0ff3e015fcda683a:getPixels\"/>"
      ],
      "text/plain": [
       "<IPython.core.display.Image object>"
      ]
     },
     "execution_count": 384,
     "metadata": {},
     "output_type": "execute_result"
    }
   ],
   "source": [
    "Image(url=display_('2020-01-01','2020-01-30',1))"
   ]
  },
  {
   "cell_type": "code",
   "execution_count": 385,
   "metadata": {},
   "outputs": [
    {
     "name": "stdout",
     "output_type": "stream",
     "text": [
      "CO Concentration During Lockdown from June 01 to june 30\n"
     ]
    },
    {
     "data": {
      "text/html": [
       "<img src=\"https://earthengine.googleapis.com/v1alpha/projects/earthengine-legacy/thumbnails/c7953f50235559a6f10a55789b8155f0-be38aec74765a858ff89c5906171b909:getPixels\"/>"
      ],
      "text/plain": [
       "<IPython.core.display.Image object>"
      ]
     },
     "execution_count": 385,
     "metadata": {},
     "output_type": "execute_result"
    }
   ],
   "source": [
    "Image(url=display_('2020-06-01','2020-06-30',2))"
   ]
  },
  {
   "cell_type": "code",
   "execution_count": 387,
   "metadata": {},
   "outputs": [
    {
     "name": "stdout",
     "output_type": "stream",
     "text": [
      "CO Concentration After Lockdown from Dec 01 to Dec 30\n"
     ]
    },
    {
     "data": {
      "text/html": [
       "<img src=\"https://earthengine.googleapis.com/v1alpha/projects/earthengine-legacy/thumbnails/0693de813fe845d2ffc3b58e5d937e22-86c1980998331c31ded24ff51d3d6ba8:getPixels\"/>"
      ],
      "text/plain": [
       "<IPython.core.display.Image object>"
      ]
     },
     "execution_count": 387,
     "metadata": {},
     "output_type": "execute_result"
    }
   ],
   "source": [
    "Image(url=display_('2020-12-01','2020-12-30',3))"
   ]
  }
 ],
 "metadata": {
  "colab": {
   "name": "NO2_in _Lockddown.ipynb",
   "provenance": []
  },
  "kernelspec": {
   "display_name": "python3.7",
   "language": "python",
   "name": "python3.7"
  },
  "language_info": {
   "codemirror_mode": {
    "name": "ipython",
    "version": 3
   },
   "file_extension": ".py",
   "mimetype": "text/x-python",
   "name": "python",
   "nbconvert_exporter": "python",
   "pygments_lexer": "ipython3",
   "version": "3.7.10"
  }
 },
 "nbformat": 4,
 "nbformat_minor": 4
}
